{
 "cells": [
  {
   "cell_type": "code",
   "execution_count": 1,
   "id": "fa8362ec-d659-4c9d-ba33-7586337d0978",
   "metadata": {},
   "outputs": [],
   "source": [
    "import pandas as pd"
   ]
  },
  {
   "cell_type": "code",
   "execution_count": 4,
   "id": "43c33b57-7b06-43a8-a757-2a29a67c9d18",
   "metadata": {},
   "outputs": [],
   "source": [
    "times = pd.date_range('2021-05-01T10:05:49.581Z','2021-05-05T10:05:49.581Z',freq='2h')"
   ]
  },
  {
   "cell_type": "code",
   "execution_count": 18,
   "id": "d7eebaee-2ee1-42fe-b400-d7b50cfd7e60",
   "metadata": {},
   "outputs": [],
   "source": [
    "def to_RFC3339Date(x):\n",
    "    x = str(x)\n",
    "    x = x.replace(' ','T')\n",
    "    x = x.replace('000+00:00','Z')\n",
    "    return x"
   ]
  },
  {
   "cell_type": "code",
   "execution_count": 19,
   "id": "0402ceda-be71-40c6-8387-35bd211d4bd4",
   "metadata": {},
   "outputs": [],
   "source": [
    "times_2 = [to_RFC3339Date(i) for i in times]"
   ]
  },
  {
   "cell_type": "code",
   "execution_count": 20,
   "id": "3e699cd9-867c-4d1e-b50c-4ab5447472f8",
   "metadata": {},
   "outputs": [
    {
     "data": {
      "text/plain": [
       "['2021-05-01T10:05:49.581Z',\n",
       " '2021-05-01T12:05:49.581Z',\n",
       " '2021-05-01T14:05:49.581Z',\n",
       " '2021-05-01T16:05:49.581Z',\n",
       " '2021-05-01T18:05:49.581Z',\n",
       " '2021-05-01T20:05:49.581Z',\n",
       " '2021-05-01T22:05:49.581Z',\n",
       " '2021-05-02T00:05:49.581Z',\n",
       " '2021-05-02T02:05:49.581Z',\n",
       " '2021-05-02T04:05:49.581Z',\n",
       " '2021-05-02T06:05:49.581Z',\n",
       " '2021-05-02T08:05:49.581Z',\n",
       " '2021-05-02T10:05:49.581Z',\n",
       " '2021-05-02T12:05:49.581Z',\n",
       " '2021-05-02T14:05:49.581Z',\n",
       " '2021-05-02T16:05:49.581Z',\n",
       " '2021-05-02T18:05:49.581Z',\n",
       " '2021-05-02T20:05:49.581Z',\n",
       " '2021-05-02T22:05:49.581Z',\n",
       " '2021-05-03T00:05:49.581Z',\n",
       " '2021-05-03T02:05:49.581Z',\n",
       " '2021-05-03T04:05:49.581Z',\n",
       " '2021-05-03T06:05:49.581Z',\n",
       " '2021-05-03T08:05:49.581Z',\n",
       " '2021-05-03T10:05:49.581Z',\n",
       " '2021-05-03T12:05:49.581Z',\n",
       " '2021-05-03T14:05:49.581Z',\n",
       " '2021-05-03T16:05:49.581Z',\n",
       " '2021-05-03T18:05:49.581Z',\n",
       " '2021-05-03T20:05:49.581Z',\n",
       " '2021-05-03T22:05:49.581Z',\n",
       " '2021-05-04T00:05:49.581Z',\n",
       " '2021-05-04T02:05:49.581Z',\n",
       " '2021-05-04T04:05:49.581Z',\n",
       " '2021-05-04T06:05:49.581Z',\n",
       " '2021-05-04T08:05:49.581Z',\n",
       " '2021-05-04T10:05:49.581Z',\n",
       " '2021-05-04T12:05:49.581Z',\n",
       " '2021-05-04T14:05:49.581Z',\n",
       " '2021-05-04T16:05:49.581Z',\n",
       " '2021-05-04T18:05:49.581Z',\n",
       " '2021-05-04T20:05:49.581Z',\n",
       " '2021-05-04T22:05:49.581Z',\n",
       " '2021-05-05T00:05:49.581Z',\n",
       " '2021-05-05T02:05:49.581Z',\n",
       " '2021-05-05T04:05:49.581Z',\n",
       " '2021-05-05T06:05:49.581Z',\n",
       " '2021-05-05T08:05:49.581Z',\n",
       " '2021-05-05T10:05:49.581Z']"
      ]
     },
     "execution_count": 20,
     "metadata": {},
     "output_type": "execute_result"
    }
   ],
   "source": [
    "times_2"
   ]
  },
  {
   "cell_type": "code",
   "execution_count": null,
   "id": "ea6c73ba-93b7-4b17-a3ff-ade05623091a",
   "metadata": {},
   "outputs": [],
   "source": []
  }
 ],
 "metadata": {
  "kernelspec": {
   "display_name": "Python 3",
   "language": "python",
   "name": "python3"
  },
  "language_info": {
   "codemirror_mode": {
    "name": "ipython",
    "version": 3
   },
   "file_extension": ".py",
   "mimetype": "text/x-python",
   "name": "python",
   "nbconvert_exporter": "python",
   "pygments_lexer": "ipython3",
   "version": "3.8.8"
  }
 },
 "nbformat": 4,
 "nbformat_minor": 5
}
