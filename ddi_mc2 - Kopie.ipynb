{
 "cells": [
  {
   "cell_type": "code",
   "execution_count": 1,
   "metadata": {},
   "outputs": [],
   "source": [
    "import requests\n",
    "import csv\n",
    "import os\n",
    "import warnings\n",
    "from tqdm import tqdm \n",
    "\n",
    "import time\n",
    "from datetime import datetime\n",
    "from isodate import datetime_isoformat\n",
    "\n",
    "\n",
    "import seaborn as sns\n",
    "import matplotlib.pyplot as plt\n",
    "import numpy as np\n",
    "import pandas as pd\n",
    "\n",
    "warnings.simplefilter(action='ignore', category=FutureWarning)"
   ]
  },
  {
   "cell_type": "markdown",
   "metadata": {},
   "source": [
    "# ddi - Mini-Challenge zu LE3, NoSQL\n",
    "Roman Studer, Simon Luder"
   ]
  },
  {
   "cell_type": "markdown",
   "metadata": {},
   "source": [
    "## Use Case\n",
    "<p align=\"center\">\n",
    "  <img src=\"./data/images/Konzept.png\" alt=\"drawing\" width=\"900\"/>\n",
    "</p>"
   ]
  },
  {
   "cell_type": "markdown",
   "metadata": {},
   "source": [
    "Wir unterbreiten den Vorschlag eine NoSQL Datenbank (MongoDB) als Data Lake für die Speicherung von Time Series Daten zu verwenden und die Analyse besagter Daten auf einer Time-Series Datenbank durchzuführen. Die Analyse dieser Daten kann mittels einer auf Time Series optimierte Datenbank auf Abruf geschehen. Als Beispiel verwenden wir als Datenquelle openSenseMap, welche Messwerte und Sensormetainformationen über eine API zur Verfügung stellt. Ein aktiver Sensor sendet periodisch (je nach Sensor alle paar Sekunden oder Minuten) einen Messwert. Bei einem Intervall von 10 Sekunden sendet ein Sensor pro Jahr 3'153'600 Datenpunkte. \n",
    "\n",
    "OpenSenseMap erlaubt es ein ganzes Gebiet (Mittels Angabe von Breiten- und Längengrad) zu überwachen. Die Anzahl Sensoren, sowie deren Attribute kann sich über die Zeit ändern. Wenn zum Beispiel ein neuer Sensor im gleichen Gebiet in Betrieb genommen wird. Daher ist die Datenspeicherung in einer NoSQL, schemenlosen Datenbank geeignet. MongoDB ist dabei aufgrund des flexigblem Schema und einfacher horizontaler Skalierung gut geeignet. Dadurch sind wir auf Änderungen in den durch die API erhaltenen Attributen, sowie auf grosse Änderungen in der Datenmenge gewappnet. MongoDB ist allerdins nicht für die Analyse von Time Series geeignet. InfluxDB, eine Time Series Datenbank, ist für Time Series Daten optimiert und kann schnell Aggregationen über eine grosse Anzahl von Datenpunkten (über Timestamp Indexiert) durchführen. Ein Beispiel wäre ein Moving Average mit kleinem Fenster über mehrere Millionen Datenpunkte.\n",
    "\n",
    "Weiter existiert ein MongoDB-Plugin auf Telegraf welche die Performance der MongoDB überwachen kann. Somit kann das Monitoring über Influx betrieben werden. \n",
    "\n",
    "Im Anschluss setzen wir sowohl eine MongoDB als auch eine InfluxDB auf. Über ein Script laden wir alle Sensordaten auf dem Gelände der ETH-Zürich, welche OpenSenseMap zur Verfügung stellt herunter und speichern diese in der MongoDB. Im Anschluss messen wir die Zeit für Aggregationen bei steigenden Datenpunkten einzeln für beide Datenbanken, sowie für den Fall wenn MongoDB als Datalake verwendet wird. Dadurch können wir einen Punkt identifizieren ab dem es nicht mehr sinnvoll ist nur mit einer MongoDB zu arbeiten, sondern die InfluxDB zur Analyse hinzuzuziehen."
   ]
  },
  {
   "cell_type": "markdown",
   "metadata": {},
   "source": [
    "### Vergleich MongoDB vs. InfluxDB"
   ]
  },
  {
   "cell_type": "markdown",
   "metadata": {},
   "source": []
  },
  {
   "cell_type": "markdown",
   "metadata": {},
   "source": [
    "## Datenmodell"
   ]
  },
  {
   "cell_type": "markdown",
   "metadata": {},
   "source": [
    "## Load Data"
   ]
  },
  {
   "cell_type": "code",
   "execution_count": 2,
   "metadata": {},
   "outputs": [],
   "source": [
    "#get list of ifu boxes at eth\n",
    "url = 'https://api.opensensemap.org/boxes?'\n",
    "bbox = '8.50269672304309, 47.40598032642525,  8.512126181507432, 47.4113301084323 ' # boundary box around eth zurich\n",
    "boxes = requests.get(url, params={'bbox':bbox, 'full':'false'}).json()"
   ]
  },
  {
   "cell_type": "code",
   "execution_count": 3,
   "metadata": {},
   "outputs": [],
   "source": [
    "from_date = '2021-04-25T10:05:49.581Z'\n",
    "to_date = '2021-05-02T10:05:49.581Z'\n",
    "data_format = 'csv'"
   ]
  },
  {
   "cell_type": "code",
   "execution_count": 4,
   "metadata": {},
   "outputs": [
    {
     "name": "stderr",
     "output_type": "stream",
     "text": [
      "100%|██████████████████████████████████████████████████████████████████████████████████| 82/82 [02:52<00:00,  2.10s/it]\n"
     ]
    }
   ],
   "source": [
    "\n",
    "for box in tqdm(boxes):\n",
    "    box_id = box['_id']\n",
    "    box_name = box['name']\n",
    "    location = box['currentLocation']['coordinates']\n",
    "    lat, lon = location[0], location[1]\n",
    "    for sensor in box['sensors']:\n",
    "        try:\n",
    "            sensor_id = sensor['_id']\n",
    "            sensor_name = sensor['title']\n",
    "            sensor_name.replace('/', '')\n",
    "            sensor_unit = sensor['unit']\n",
    "        except:\n",
    "            pass\n",
    "        \n",
    "        #url = f'https://api.opensensemap.org/boxes/{box_id}/data/{sensor_id}?format={data_format}&download=true'\n",
    "        url = f'https://api.opensensemap.org/boxes/{box_id}/data/{sensor_id}?from-date={from_date}&to-date={to_date}&download=true&format={data_format}'\n",
    "        r = requests.get(url, stream=True)\n",
    "        if (len(r.text) > 16): # check if sensor returns values (header has length 16)\n",
    "            with open(f'./data/{box_name}_{sensor_name}.csv', 'wb') as f:\n",
    "                for _, line in enumerate(r.iter_lines()):\n",
    "                    if _ == 0: # define header\n",
    "                        line = 'box_name,sensor_name,box_id,sensor_id,lat,lon,unit,current_time,value\\n'\n",
    "                    else:\n",
    "                        time, value = (line.decode(\"utf-8\").split(','))\n",
    "                        time = time.replace('T', ' ').replace('Z', '')\n",
    "                        time = datetime.strptime(time, '%Y-%m-%d %H:%M:%S.%f').strftime('%Y-%m-%d %H:%M:%S')\n",
    "                        line= f'{box_name},{sensor_name},{box_id},{sensor_id},{lat},{lon},{sensor_unit},{time},{value}\\n'\n",
    "                    f.write(line.encode())"
   ]
  },
  {
   "cell_type": "markdown",
   "metadata": {},
   "source": [
    "## Setup MongoDB"
   ]
  },
  {
   "cell_type": "code",
   "execution_count": 5,
   "metadata": {},
   "outputs": [],
   "source": [
    "#!pip install pymongo\n",
    "from pymongo import MongoClient\n",
    "import pymongo\n",
    "import datetime as dt"
   ]
  },
  {
   "cell_type": "markdown",
   "metadata": {},
   "source": [
    "### Prepare data"
   ]
  },
  {
   "cell_type": "code",
   "execution_count": 6,
   "metadata": {},
   "outputs": [],
   "source": [
    "def csv_to_dict(path, file):\n",
    "    '''converts a csv file to a dictionary'''\n",
    "    data = pd.read_csv(path + file)\n",
    "    pd.to_datetime(data.current_time, format=\"%Y-%m-%d %H:%M:%S\")\n",
    "    document = []\n",
    "    for i in range(len(data)):\n",
    "        dictionary = dict()\n",
    "        dictionary[\"_id\"] = file.replace('.csv', '_{}'.format(i))\n",
    "        dictionary[\"box_name\"] = data[\"box_name\"][0]\n",
    "        dictionary[\"sensor_name\"] = data[\"sensor_name\"][0]\n",
    "        dictionary[\"box_id\"] = data[\"box_id\"][0]\n",
    "        dictionary[\"sensor_id\"] = data[\"sensor_id\"][0]\n",
    "        dictionary[\"lat\"] = data[\"lat\"][0]\n",
    "        dictionary[\"lon\"] = data[\"lon\"][0]\n",
    "        dictionary[\"unit\"] = data[\"unit\"][0]\n",
    "        dictionary[\"value\"] = data[\"value\"][i]\n",
    "        dictionary[\"timestamp\"] = dt.datetime.strptime(data[\"current_time\"][i], '%Y-%m-%d %H:%M:%S')\n",
    "        document.append(dictionary)\n",
    "                   \n",
    "#     dictionary[\"measurments\"] = dict(zip(data[\"current_time\"], data[\"value\"]))\n",
    "#     dictionary[\"measurments\"] = {[\"timestamp\" : data[\"current_time\"], \n",
    "#                                      \"data\" : data[\"value\"]}\n",
    "\n",
    "    return document"
   ]
  },
  {
   "cell_type": "code",
   "execution_count": 7,
   "metadata": {},
   "outputs": [],
   "source": [
    "times = pd.date_range(from_date,to_date,freq='4h')\n",
    "\n",
    "def to_RFC3339Date(x):\n",
    "    x = str(x)\n",
    "    x = x.replace(' ','T')\n",
    "    x = x.replace('000+00:00','Z')\n",
    "    return x\n",
    "\n",
    "times = [i for i in times][1:] # remove first time as it is equal to from_date\n",
    "times = [to_RFC3339Date(i) for i in times]"
   ]
  },
  {
   "cell_type": "code",
   "execution_count": 8,
   "metadata": {},
   "outputs": [
    {
     "data": {
      "text/plain": [
       "42"
      ]
     },
     "execution_count": 8,
     "metadata": {},
     "output_type": "execute_result"
    }
   ],
   "source": [
    "len(times)"
   ]
  },
  {
   "cell_type": "markdown",
   "metadata": {},
   "source": [
    "### Create db"
   ]
  },
  {
   "cell_type": "code",
   "execution_count": 9,
   "metadata": {},
   "outputs": [],
   "source": [
    "mongo_client = pymongo.MongoClient('localhost', 27017)\n",
    "mongo_db = mongo_client[\"ddi_mc2\"]"
   ]
  },
  {
   "cell_type": "markdown",
   "metadata": {},
   "source": [
    "### Populate db"
   ]
  },
  {
   "cell_type": "code",
   "execution_count": 10,
   "metadata": {},
   "outputs": [
    {
     "name": "stderr",
     "output_type": "stream",
     "text": [
      "100%|████████████████████████████████████████████████████████████████████████████████| 161/161 [05:44<00:00,  2.14s/it]\n"
     ]
    }
   ],
   "source": [
    "VERBOSE = False\n",
    "path = './data/'\n",
    "for file in tqdm(os.listdir(\"./data\")):\n",
    "#     print(file.split(\"_\")[0])\n",
    "    if file.endswith('.csv'): # check for filetype\n",
    "        if not mongo_db[file.split(\"_\")[0]].count_documents({\"_id\":file.replace('.csv', '')}) > 0:\n",
    "            dictionary = csv_to_dict(path, file)\n",
    "            for document in dictionary:\n",
    "                mongo_db[file.split(\"_\")[0]].insert_one(document)\n",
    "            if VERBOSE:\n",
    "                print(\"populate:\", file)"
   ]
  },
  {
   "cell_type": "markdown",
   "metadata": {},
   "source": [
    "### List all Sensor-Boxes within the MongoDB"
   ]
  },
  {
   "cell_type": "code",
   "execution_count": 11,
   "metadata": {},
   "outputs": [
    {
     "data": {
      "text/plain": [
       "['IKG Particulate Matter',\n",
       " 'IfU SenseBox2021 04 A',\n",
       " 'ifU SenseBox2021 10A',\n",
       " 'IfU SenseBox2021 dab',\n",
       " 'IfU SenseBox2021 12',\n",
       " 'IfU SenseBox2021 5A',\n",
       " 'IfU SenseBox2021 2B',\n",
       " 'IfU SenseBox2021 1A',\n",
       " 'IfU SenseBox2021 9A',\n",
       " 'IfU SenseBox2021 5B',\n",
       " 'IfU SenseBox2021 04 B',\n",
       " 'IfU SenseBox2021 8B',\n",
       " 'IfU SenseBox2021 11A',\n",
       " 'IfU SenseBox 7A',\n",
       " 'IFU Sensebox2021 2A',\n",
       " 'IfU SenseBox2021 3A']"
      ]
     },
     "execution_count": 11,
     "metadata": {},
     "output_type": "execute_result"
    }
   ],
   "source": [
    "mongo_db.list_collection_names()"
   ]
  },
  {
   "cell_type": "markdown",
   "metadata": {},
   "source": [
    "### List all Sensors of a Sensor-Box"
   ]
  },
  {
   "cell_type": "code",
   "execution_count": 12,
   "metadata": {},
   "outputs": [
    {
     "data": {
      "text/plain": [
       "['Luftfeuchte 2-SHT31 Nr.2',\n",
       " 'Luftfeuchte 2-SHT85 Nr.0',\n",
       " 'Luftfeuchte 2-SHT85 Nr.1',\n",
       " 'Luftfeuchte 2-SHT85 Nr.2',\n",
       " 'Luftfeuchtigkeit 2-BME680',\n",
       " 'Lufttemperatur 2-BME680',\n",
       " 'Lufttemperatur 2-SHT31 Nr.2',\n",
       " 'Lufttemperatur 2-SHT85 Nr.0',\n",
       " 'Lufttemperatur 2-SHT85 Nr.1',\n",
       " 'Lufttemperatur 2-SHT85 Nr.2']"
      ]
     },
     "execution_count": 12,
     "metadata": {},
     "output_type": "execute_result"
    }
   ],
   "source": [
    "boxes = mongo_db['IFU Sensebox2021 2A'].find().distinct('sensor_name')[0:10]\n",
    "boxes"
   ]
  },
  {
   "cell_type": "code",
   "execution_count": 13,
   "metadata": {},
   "outputs": [],
   "source": [
    "# list(mongo_db['IFU Sensebox2021 2A'].find({\"sensor_name\": \"Lufttemperatur 2-BME680\",  \n",
    "#                                              \"timestamp\": {\"$gt\": datetime.strptime('2021-04-25 00:00:00.000', '%Y-%m-%d %H:%M:%S.%f'), \n",
    "#                                                            \"$lt\": datetime.strptime('2021-05-02 00:05:00.000', '%Y-%m-%d %H:%M:%S.%f')}}))\n"
   ]
  },
  {
   "cell_type": "code",
   "execution_count": 14,
   "metadata": {},
   "outputs": [
    {
     "name": "stderr",
     "output_type": "stream",
     "text": [
      "100%|██████████████████████████████████████████████████████████████████████████████████| 42/42 [00:45<00:00,  1.09s/it]\n"
     ]
    }
   ],
   "source": [
    "import time\n",
    "sensor_name = \"Lufttemperatur 2-BME680\"\n",
    "box_name = \"IFU Sensebox2021 2A\"\n",
    "\n",
    "mean_runtimes = []\n",
    "std_runtimes = []\n",
    "n_init = 10\n",
    "\n",
    "for i in tqdm(range(len(times))):   \n",
    "    runtimes = [] \n",
    "    n_datepoints = []\n",
    "    \n",
    "    for _ in range(n_init):\n",
    "\n",
    "        start = time.perf_counter()\n",
    "\n",
    "        query = list(mongo_db[box_name].aggregate([\n",
    "                {\n",
    "                \"$match\": {\n",
    "                \"sensor_name\": sensor_name,\n",
    "                \"timestamp\": {\"$gte\": datetime.strptime(from_date, '%Y-%m-%dT%H:%M:%S.%fZ'), \n",
    "                              \"$lte\": datetime.strptime(times[i], '%Y-%m-%dT%H:%M:%S.%fZ')}}\n",
    "                },\n",
    "                {\n",
    "                    \"$group\": {\n",
    "                        \"_id\": {\n",
    "                        \"minute\": {\"$minute\": \"$timestamp\"},\n",
    "                        \"hour\": {\"$hour\": \"$timestamp\"},\n",
    "                        \"day\": {\"$dayOfMonth\": \"$timestamp\"},\n",
    "                        \"month\": {\"$month\": \"$timestamp\"},\n",
    "                        \"year\": {\"$year\": \"$timestamp\"} \n",
    "                        }, \n",
    "                    \"mean\": {\"$avg\": \"$value\"}  \n",
    "                }}\n",
    "            ]))\n",
    "\n",
    "        end = time.perf_counter()\n",
    "\n",
    "        runtimes.append(end-start)\n",
    "    mean_runtimes.append(np.mean(runtimes))\n",
    "    std_runtimes.append(np.std(runtimes))"
   ]
  },
  {
   "cell_type": "code",
   "execution_count": 15,
   "metadata": {},
   "outputs": [
    {
     "data": {
      "image/png": "[encoded data removed]",
      "text/plain": [
       "<Figure size 432x288 with 1 Axes>"
      ]
     },
     "metadata": {
      "needs_background": "light"
     },
     "output_type": "display_data"
    }
   ],
   "source": [
    "fmt = '%Y-%m-%dT%H:%M:%S.%fZ'\n",
    "time_diff = [(datetime.strptime(i, fmt)-datetime.strptime(from_date, fmt)) for i in times]\n",
    "time_diff = [time.total_seconds()/60 for time in time_diff]\n",
    "\n",
    "plt.plot(time_diff, mean_runtimes)\n",
    "plt.fill_between(time_diff, np.subtract(mean_runtimes,std_runtimes), np.add(mean_runtimes,std_runtimes), alpha=.2)\n",
    "plt.xlabel(\"queried timerange [min]\")\n",
    "plt.ylabel(\"query duration\")\n",
    "plt.show()"
   ]
  },
  {
   "cell_type": "code",
   "execution_count": 16,
   "metadata": {},
   "outputs": [],
   "source": [
    "# list(mongo_db[box_name].aggregate([\n",
    "#     {\n",
    "#     \"$match\": {\n",
    "#     \"sensor_name\": sensor_name,\n",
    "#     \"timestamp\": {\"$gte\": datetime.strptime(from_date, '%Y-%m-%dT%H:%M:%S.%fZ'), \n",
    "#                   \"$lte\": datetime.strptime(times[2], '%Y-%m-%dT%H:%M:%S.%fZ')}}\n",
    "#     },\n",
    "#     {\n",
    "#         \"$group\": {\n",
    "#             \"_id\": {\n",
    "#             \"minute\": {\"$minute\": \"$timestamp\"},\n",
    "#             \"hour\": {\"$hour\": \"$timestamp\"},\n",
    "#             \"day\": {\"$dayOfMonth\": \"$timestamp\"},\n",
    "#             \"month\": {\"$month\": \"$timestamp\"},\n",
    "#             \"year\": {\"$year\": \"$timestamp\"} \n",
    "#             }, \n",
    "#             \"mean\": {\"$avg\": \"$value\"},\n",
    "#             \"timestamp\": { \"$max\": \"$timestamp\"}\n",
    "            \n",
    "#     }}\n",
    "# ]))"
   ]
  },
  {
   "cell_type": "markdown",
   "metadata": {},
   "source": [
    "## Setup InfluxDB \n",
    "\n",
    "Die Influx-Datenbank kann über die Website [influxdata.com](influxdata.com) heruntergeladen werden. Nach der Installation muss ein Administratorenkonto eingerichtet werden. Weiter muss für die Verwendung in unserem Beispiel ein \"Bucket\" erstellt werden, welcher die Sensordaten halten wird. Diesen bennen wir \"ddi\" und belassen die Retention Policy bei \"never\". So wird der Bucket nicht nach einer definierten Zeitdauer automatisch gelöscht. Für die Kommunikation zur Datenbank über Python muss die Bibliothek `influxdb_client` installiert und importiert werden. Dies Bibiliothek dient als Client und ist in etwa mit dem Cursor für eine Postgres-Datenbank zu vergleichen. Beachten Sie dass der Zugriff authorisiert sein muss. Dazu muss ein Token für den jeweiligen Bucket erstellt werden. Dieser kann im Influx-Dashboard unter \"Data -> Token\" erstellt und kopiert werden. Möchten sie dieses Notebook durchlaufen lassen, müssen sie einen eigenen Token erstellen und in der unteren Zeile bei der Variable `token` einfügen."
   ]
  },
  {
   "cell_type": "code",
   "execution_count": 17,
   "metadata": {},
   "outputs": [],
   "source": [
    "# !pip install influxdb-client\n",
    "from datetime import datetime\n",
    "\n",
    "from influxdb_client import InfluxDBClient, Point, WritePrecision\n",
    "from influxdb_client.client.write_api import SYNCHRONOUS\n",
    "\n",
    "# You can generate a Token from the \"Tokens Tab\" in the UI\n",
    "token = \"uZei_UmVg7IGcllVQdvKbmbCjwx5s0pe7KfTafVspsL0qGWIg6fmB34JNwWmsEGdt9aFr2Qio6ltOB9_ZrCDDw==\"\n",
    "org = \"ddi\"\n",
    "bucket = \"ddi\"\n",
    "\n",
    "client = InfluxDBClient(url=\"http://localhost:8086\", token=token, profilers=True)\n",
    "write_api = client.write_api(write_options=SYNCHRONOUS)\n",
    "\n",
    "# RS: uZei_UmVg7IGcllVQdvKbmbCjwx5s0pe7KfTafVspsL0qGWIg6fmB34JNwWmsEGdt9aFr2Qio6ltOB9_ZrCDDw==\n",
    "# SL: AW-zLqzOTpQW4sRYaKbdXpSxBLkxT8rT-RZA-IS5MYo41RZ40YoOCoNYTyu9S2La5W4KpcDzDgCfj53fk6aZuw=="
   ]
  },
  {
   "cell_type": "markdown",
   "metadata": {},
   "source": [
    "Die untere Zeile zeigt an dass unsere Verbindung steht wenn \"status\" = 'pass' ist. Sonst sind wir nicht mit der Datenbank verbunden"
   ]
  },
  {
   "cell_type": "code",
   "execution_count": 18,
   "metadata": {},
   "outputs": [
    {
     "data": {
      "text/plain": [
       "{'checks': [],\n",
       " 'commit': '4db98b4c9a',\n",
       " 'message': 'ready for queries and writes',\n",
       " 'name': 'influxdb',\n",
       " 'status': 'pass',\n",
       " 'version': '2.0.6'}"
      ]
     },
     "execution_count": 18,
     "metadata": {},
     "output_type": "execute_result"
    }
   ],
   "source": [
    "client.health()"
   ]
  },
  {
   "cell_type": "markdown",
   "metadata": {},
   "source": [
    "### Query MongoDB, insert into InfluxDB"
   ]
  },
  {
   "cell_type": "code",
   "execution_count": 19,
   "metadata": {},
   "outputs": [],
   "source": [
    "# # select box and get all measurements\n",
    "# col = mongo_db.list_collection_names()\n",
    "# col"
   ]
  },
  {
   "cell_type": "code",
   "execution_count": 20,
   "metadata": {},
   "outputs": [],
   "source": [
    "col = \"IFU Sensebox2021 2A\""
   ]
  },
  {
   "cell_type": "code",
   "execution_count": 21,
   "metadata": {},
   "outputs": [],
   "source": [
    "# result = mongo_db[col].find_one({},{'measurments':1}) # select first sensor with field 'measurments'\n",
    "# result"
   ]
  },
  {
   "cell_type": "markdown",
   "metadata": {},
   "source": [
    "**Get all sensors within a selected box**"
   ]
  },
  {
   "cell_type": "code",
   "execution_count": 22,
   "metadata": {},
   "outputs": [
    {
     "name": "stderr",
     "output_type": "stream",
     "text": [
      "100%|████████████████████████████████████████████████████████████████████████| 162584/162584 [00:51<00:00, 3150.78it/s]\n"
     ]
    }
   ],
   "source": [
    "sensor_names = mongo_db[col].find().distinct('sensor_name')\n",
    "measurment_id = mongo_db[col].find().distinct('_id')\n",
    "results = []\n",
    "ts, vs = {}, {}\n",
    "for j in tqdm(measurment_id):\n",
    "    sample = mongo_db[col].find_one({'_id':j},{'value', 'timestamp', 'sensor_name', \"box_name\"})\n",
    "    indlux_id = \"{}_{}\".format(sample[\"box_name\"], sample[\"sensor_name\"])\n",
    "    if indlux_id not in ts.keys():\n",
    "        ts[indlux_id] = []\n",
    "        vs[indlux_id] = []\n",
    "    ts[indlux_id].append(sample[\"timestamp\"].strftime('%Y-%m-%d %H:%M:%S'))\n",
    "    vs[indlux_id].append(sample[\"value\"])\n",
    "#       print(ts, vs)\n",
    "# results[i] = dict(zip(ts, vs))\n",
    "\n",
    "\n",
    "for key in ts.keys():\n",
    "    result = dict()\n",
    "    result[\"_id\"] = key\n",
    "    result[\"measurments\"] = dict(zip(ts[key], vs[key]))\n",
    "    results.append(result)"
   ]
  },
  {
   "cell_type": "code",
   "execution_count": 23,
   "metadata": {},
   "outputs": [],
   "source": [
    "# results[5] # = IFU Sensebox2021 2A_Lufttemperatur 2-BME680'"
   ]
  },
  {
   "cell_type": "code",
   "execution_count": 24,
   "metadata": {},
   "outputs": [],
   "source": [
    "# for result in tqdm(results):\n",
    "result = results[5]\n",
    "for observation in result['measurments'].items():\n",
    "    point = Point(result['_id'].split('_')[0]) \\\n",
    "      .tag(\"sensor_name\", result['_id'].split('_')[1]) \\\n",
    "      .field(\"_value\", observation[1])\\\n",
    "      .time(datetime.strptime(observation[0], \"%Y-%m-%d %H:%M:%S\"), WritePrecision.S)\n",
    "\n",
    "    write_api.write(bucket, org, point)"
   ]
  },
  {
   "cell_type": "markdown",
   "metadata": {},
   "source": [
    "#### Query InfluxDB"
   ]
  },
  {
   "cell_type": "code",
   "execution_count": 25,
   "metadata": {},
   "outputs": [
    {
     "name": "stderr",
     "output_type": "stream",
     "text": [
      "  0%|                                                                                           | 0/42 [00:00<?, ?it/s]\n"
     ]
    },
    {
     "ename": "TypeError",
     "evalue": "object of type 'bool' has no len()",
     "output_type": "error",
     "traceback": [
      "\u001b[1;31m---------------------------------------------------------------------------\u001b[0m",
      "\u001b[1;31mTypeError\u001b[0m                                 Traceback (most recent call last)",
      "\u001b[1;32m<ipython-input-25-9d7f302e27f1>\u001b[0m in \u001b[0;36m<module>\u001b[1;34m\u001b[0m\n\u001b[0;32m     25\u001b[0m               |> yield(name: \"mean\")'''\n\u001b[0;32m     26\u001b[0m \u001b[1;33m\u001b[0m\u001b[0m\n\u001b[1;32m---> 27\u001b[1;33m         \u001b[0mtable\u001b[0m \u001b[1;33m=\u001b[0m \u001b[0mquery_api\u001b[0m\u001b[1;33m.\u001b[0m\u001b[0mquery\u001b[0m\u001b[1;33m(\u001b[0m\u001b[0mquery\u001b[0m\u001b[1;33m,\u001b[0m \u001b[0morg\u001b[0m\u001b[1;33m=\u001b[0m\u001b[0morg\u001b[0m\u001b[1;33m)\u001b[0m\u001b[1;33m\u001b[0m\u001b[1;33m\u001b[0m\u001b[0m\n\u001b[0m\u001b[0;32m     28\u001b[0m \u001b[1;33m\u001b[0m\u001b[0m\n\u001b[0;32m     29\u001b[0m \u001b[1;33m\u001b[0m\u001b[0m\n",
      "\u001b[1;32m~\\anaconda3\\lib\\site-packages\\influxdb_client\\client\\query_api.py\u001b[0m in \u001b[0;36mquery\u001b[1;34m(self, query, org, params)\u001b[0m\n\u001b[0;32m     94\u001b[0m             \u001b[0morg\u001b[0m \u001b[1;33m=\u001b[0m \u001b[0mself\u001b[0m\u001b[1;33m.\u001b[0m\u001b[0m_influxdb_client\u001b[0m\u001b[1;33m.\u001b[0m\u001b[0morg\u001b[0m\u001b[1;33m\u001b[0m\u001b[1;33m\u001b[0m\u001b[0m\n\u001b[0;32m     95\u001b[0m \u001b[1;33m\u001b[0m\u001b[0m\n\u001b[1;32m---> 96\u001b[1;33m         response = self._query_api.post_query(org=org, query=self._create_query(query, self.default_dialect, params),\n\u001b[0m\u001b[0;32m     97\u001b[0m                                               async_req=False, _preload_content=False, _return_http_data_only=False)\n\u001b[0;32m     98\u001b[0m \u001b[1;33m\u001b[0m\u001b[0m\n",
      "\u001b[1;32m~\\anaconda3\\lib\\site-packages\\influxdb_client\\client\\query_api.py\u001b[0m in \u001b[0;36m_create_query\u001b[1;34m(self, query, dialect, params)\u001b[0m\n\u001b[0;32m    178\u001b[0m     \u001b[1;32mdef\u001b[0m \u001b[0m_create_query\u001b[0m\u001b[1;33m(\u001b[0m\u001b[0mself\u001b[0m\u001b[1;33m,\u001b[0m \u001b[0mquery\u001b[0m\u001b[1;33m,\u001b[0m \u001b[0mdialect\u001b[0m\u001b[1;33m=\u001b[0m\u001b[0mdefault_dialect\u001b[0m\u001b[1;33m,\u001b[0m \u001b[0mparams\u001b[0m\u001b[1;33m:\u001b[0m \u001b[0mdict\u001b[0m \u001b[1;33m=\u001b[0m \u001b[1;32mNone\u001b[0m\u001b[1;33m)\u001b[0m\u001b[1;33m:\u001b[0m\u001b[1;33m\u001b[0m\u001b[1;33m\u001b[0m\u001b[0m\n\u001b[0;32m    179\u001b[0m         \u001b[0mprofilers\u001b[0m \u001b[1;33m=\u001b[0m \u001b[0mself\u001b[0m\u001b[1;33m.\u001b[0m\u001b[0m_profilers\u001b[0m\u001b[1;33m(\u001b[0m\u001b[1;33m)\u001b[0m\u001b[1;33m\u001b[0m\u001b[1;33m\u001b[0m\u001b[0m\n\u001b[1;32m--> 180\u001b[1;33m         \u001b[0mq\u001b[0m \u001b[1;33m=\u001b[0m \u001b[0mQuery\u001b[0m\u001b[1;33m(\u001b[0m\u001b[0mquery\u001b[0m\u001b[1;33m=\u001b[0m\u001b[0mquery\u001b[0m\u001b[1;33m,\u001b[0m \u001b[0mdialect\u001b[0m\u001b[1;33m=\u001b[0m\u001b[0mdialect\u001b[0m\u001b[1;33m,\u001b[0m \u001b[0mextern\u001b[0m\u001b[1;33m=\u001b[0m\u001b[0mQueryApi\u001b[0m\u001b[1;33m.\u001b[0m\u001b[0m_build_flux_ast\u001b[0m\u001b[1;33m(\u001b[0m\u001b[0mparams\u001b[0m\u001b[1;33m,\u001b[0m \u001b[0mprofilers\u001b[0m\u001b[1;33m)\u001b[0m\u001b[1;33m)\u001b[0m\u001b[1;33m\u001b[0m\u001b[1;33m\u001b[0m\u001b[0m\n\u001b[0m\u001b[0;32m    181\u001b[0m \u001b[1;33m\u001b[0m\u001b[0m\n\u001b[0;32m    182\u001b[0m         \u001b[1;32mif\u001b[0m \u001b[0mprofilers\u001b[0m\u001b[1;33m:\u001b[0m\u001b[1;33m\u001b[0m\u001b[1;33m\u001b[0m\u001b[0m\n",
      "\u001b[1;32m~\\anaconda3\\lib\\site-packages\\influxdb_client\\client\\query_api.py\u001b[0m in \u001b[0;36m_build_flux_ast\u001b[1;34m(params, profilers)\u001b[0m\n\u001b[0;32m    228\u001b[0m         \u001b[0mbody\u001b[0m \u001b[1;33m=\u001b[0m \u001b[1;33m[\u001b[0m\u001b[1;33m]\u001b[0m\u001b[1;33m\u001b[0m\u001b[1;33m\u001b[0m\u001b[0m\n\u001b[0;32m    229\u001b[0m \u001b[1;33m\u001b[0m\u001b[0m\n\u001b[1;32m--> 230\u001b[1;33m         \u001b[1;32mif\u001b[0m \u001b[0mprofilers\u001b[0m \u001b[1;32mis\u001b[0m \u001b[1;32mnot\u001b[0m \u001b[1;32mNone\u001b[0m \u001b[1;32mand\u001b[0m \u001b[0mlen\u001b[0m\u001b[1;33m(\u001b[0m\u001b[0mprofilers\u001b[0m\u001b[1;33m)\u001b[0m \u001b[1;33m>\u001b[0m \u001b[1;36m0\u001b[0m\u001b[1;33m:\u001b[0m\u001b[1;33m\u001b[0m\u001b[1;33m\u001b[0m\u001b[0m\n\u001b[0m\u001b[0;32m    231\u001b[0m             imports.append(ImportDeclaration(\n\u001b[0;32m    232\u001b[0m                 \u001b[1;34m\"ImportDeclaration\"\u001b[0m\u001b[1;33m,\u001b[0m\u001b[1;33m\u001b[0m\u001b[1;33m\u001b[0m\u001b[0m\n",
      "\u001b[1;31mTypeError\u001b[0m: object of type 'bool' has no len()"
     ]
    }
   ],
   "source": [
    "box_name = \"IFU Sensebox2021 2A\"\n",
    "sensor_name = \"Lufttemperatur 2-BME680\"\n",
    "\n",
    "mean_runtimes = []\n",
    "std_runtimes = []\n",
    "n_init = 10\n",
    "\n",
    "query_api = client.query_api()\n",
    "\n",
    "for i in tqdm(range(len(times))):   \n",
    "    runtimes = [] \n",
    "    n_datepoints = []\n",
    "    \n",
    "    for _ in range(n_init):\n",
    "\n",
    "        start = time.perf_counter()\n",
    "\n",
    "        query = f'''\n",
    "            from(bucket: \"ddi\")\n",
    "              |> range(start: time(v: \"{from_date}\"), stop: time(v: \"{times[i]}\"))\n",
    "              |> filter(fn: (r) => r[\"_measurement\"] == \"IFU Sensebox2021 2A\")\n",
    "              |> filter(fn: (r) => r[\"_field\"] == \"_value\")\n",
    "              |> filter(fn: (r) => r[\"sensor_name\"] == \"Lufttemperatur 2-BME680\")\n",
    "              |> aggregateWindow(every: 1m, fn: mean, createEmpty: false)\n",
    "              |> yield(name: \"mean\")'''\n",
    "\n",
    "        table = query_api.query(query, org=org)\n",
    "        \n",
    "\n",
    "        end = time.perf_counter()\n",
    "        \n",
    "        b = []\n",
    "        for a in table:\n",
    "            for record in a.records:\n",
    "                b.append((record.get_field(), record.get_value()))\n",
    "        \n",
    "        runtimes.append(end-start)\n",
    "        n_datepoints.append(len(table))\n",
    "    #print(len(b))\n",
    "    mean_runtimes.append(np.mean(runtimes))\n",
    "    std_runtimes.append(np.std(runtimes))"
   ]
  },
  {
   "cell_type": "code",
   "execution_count": null,
   "metadata": {},
   "outputs": [],
   "source": [
    "plt.plot(range(0, len(mean_runtimes)), mean_runtimes)\n",
    "plt.fill_between(range(0, len(mean_runtimes)), np.subtract(mean_runtimes,std_runtimes), np.add(mean_runtimes,std_runtimes), alpha=.2)"
   ]
  }
 ],
 "metadata": {
  "kernelspec": {
   "display_name": "Python 3",
   "language": "python",
   "name": "python3"
  },
  "language_info": {
   "codemirror_mode": {
    "name": "ipython",
    "version": 3
   },
   "file_extension": ".py",
   "mimetype": "text/x-python",
   "name": "python",
   "nbconvert_exporter": "python",
   "pygments_lexer": "ipython3",
   "version": "3.8.8"
  }
 },
 "nbformat": 4,
 "nbformat_minor": 4
}
