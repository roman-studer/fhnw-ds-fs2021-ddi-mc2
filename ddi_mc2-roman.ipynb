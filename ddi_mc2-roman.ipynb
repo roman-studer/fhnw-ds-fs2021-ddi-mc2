{
 "cells": [
  {
   "cell_type": "markdown",
   "metadata": {},
   "source": [
    "# ddi - Mini-Challenge zu LE3, NoSQL\n",
    "Roman Studer, Simon Luder"
   ]
  },
  {
   "cell_type": "markdown",
   "metadata": {},
   "source": [
    "## Use Case"
   ]
  },
  {
   "cell_type": "markdown",
   "metadata": {},
   "source": [
    "## Datenmodell"
   ]
  },
  {
   "cell_type": "markdown",
   "metadata": {},
   "source": [
    "## Setup MongoDB"
   ]
  },
  {
   "cell_type": "code",
   "execution_count": 64,
   "metadata": {},
   "outputs": [],
   "source": [
    "#!pip install pymongo\n",
    "from pymongo import MongoClient\n",
    "mongo_client = MongoClient()"
   ]
  },
  {
   "cell_type": "code",
   "execution_count": 65,
   "metadata": {},
   "outputs": [
    {
     "name": "stdout",
     "output_type": "stream",
     "text": [
      "{'name': 'admin', 'sizeOnDisk': 65536.0, 'empty': False}\n",
      "{'name': 'config', 'sizeOnDisk': 73728.0, 'empty': False}\n",
      "{'name': 'local', 'sizeOnDisk': 81920.0, 'empty': False}\n"
     ]
    }
   ],
   "source": [
    "for db in mongo_client.list_databases():\n",
    "    print(db)"
   ]
  },
  {
   "cell_type": "markdown",
   "metadata": {},
   "source": [
    "## Setup InfluxDB \n",
    "InfluxDB Info\n",
    "\n",
    "- Username: admin\n",
    "- Password: password\n",
    "- Initial Organization Name: ddi\n",
    "- Initial Bucket Name: ddi"
   ]
  },
  {
   "cell_type": "code",
   "execution_count": 84,
   "metadata": {},
   "outputs": [],
   "source": [
    "#!pip install influxdb_client\n",
    "from datetime import datetime\n",
    "\n",
    "from influxdb_client import InfluxDBClient, Point, WritePrecision\n",
    "from influxdb_client.client.write_api import SYNCHRONOUS\n",
    "\n",
    "# You can generate a Token from the \"Tokens Tab\" in the UI\n",
    "# # token simon\n",
    "token = \"W0-SjIs666s8nFozR6zbGrc4iuWi3M7Wz-Xj5P1cO_g2NtqHj4j3bxS25HQF606TTRspMM8NJ80jZG9vJwKz2g==\" #token roman\n",
    "org = \"ddi\"\n",
    "bucket = \"ddi\"\n",
    "\n",
    "influx_client = InfluxDBClient(url=\"http://localhost:8086\", token=token)"
   ]
  },
  {
   "cell_type": "code",
   "execution_count": 85,
   "metadata": {},
   "outputs": [
    {
     "data": {
      "text/plain": [
       "{'checks': [],\n",
       " 'commit': '4db98b4c9a',\n",
       " 'message': 'ready for queries and writes',\n",
       " 'name': 'influxdb',\n",
       " 'status': 'pass',\n",
       " 'version': '2.0.6'}"
      ]
     },
     "execution_count": 85,
     "metadata": {},
     "output_type": "execute_result"
    }
   ],
   "source": [
    "influx_client.health()"
   ]
  },
  {
   "cell_type": "code",
   "execution_count": 87,
   "metadata": {},
   "outputs": [],
   "source": [
    "#write data with write_api\n",
    "\"\"\"\n",
    "write_api = client.write_api(write_options=SYNCHRONOUS)\n",
    "\n",
    "data = \"mem,host=host1 used_percent=23.43234543\"\n",
    "write_api.write(bucket, org, data)\n",
    "\"\"\"\n",
    "\n",
    "#write a sequence of data\n",
    "\"\"\"\n",
    "sequence = [\"mem,host=host1 used_percent=23.43234543\",\n",
    "            \"mem,host=host1 available_percent=15.856523\"]\n",
    "write_api.write(bucket, org, sequence)\n",
    "\"\"\"\n",
    "\n",
    "#query data with query_api\n",
    "\"\"\"\n",
    "query = f'from(bucket: \\\\\"{bucket}\\\\\") |> range(start: -1h)'\n",
    "tables = client.query_api().query(query, org=org)\n",
    "\"\"\";"
   ]
  }
 ],
 "metadata": {
  "kernelspec": {
   "display_name": "Python 3",
   "language": "python",
   "name": "python3"
  },
  "language_info": {
   "codemirror_mode": {
    "name": "ipython",
    "version": 3
   },
   "file_extension": ".py",
   "mimetype": "text/x-python",
   "name": "python",
   "nbconvert_exporter": "python",
   "pygments_lexer": "ipython3",
   "version": "3.8.3"
  }
 },
 "nbformat": 4,
 "nbformat_minor": 4
}
