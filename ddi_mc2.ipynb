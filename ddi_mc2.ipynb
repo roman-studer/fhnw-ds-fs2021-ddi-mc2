{
 "cells": [
  {
   "cell_type": "markdown",
   "metadata": {},
   "source": [
    "# ddi - Mini-Challenge zu LE3, NoSQL\n",
    "Roman Studer, Simon Luder"
   ]
  },
  {
   "cell_type": "markdown",
   "metadata": {},
   "source": [
    "## Use Case"
   ]
  },
  {
   "cell_type": "markdown",
   "metadata": {},
   "source": [
    "## Datenmodell"
   ]
  },
  {
   "cell_type": "markdown",
   "metadata": {},
   "source": [
    "## Setup MongoDB"
   ]
  },
  {
   "cell_type": "code",
   "execution_count": 174,
   "metadata": {},
   "outputs": [],
   "source": [
    "#!pip install pymongo\n",
    "from pymongo import MongoClient\n",
    "import pandas as pd\n",
    "import pymongo\n"
   ]
  },
  {
   "cell_type": "markdown",
   "metadata": {},
   "source": [
    "### Prepare data"
   ]
  },
  {
   "cell_type": "code",
   "execution_count": 175,
   "metadata": {},
   "outputs": [],
   "source": [
    "def csv_to_dict(path):\n",
    "    '''converts a csv file to a dictionary'''\n",
    "    data = pd.read_csv(path)\n",
    "    data[\"time_start\"] = data[\"time_start\"].str.replace('T', ' ')\n",
    "    data[\"time_start\"] = data[\"time_start\"].str.replace('Z', '')\n",
    "    data[\"time_start\"] = data[\"time_start\"].str.replace('.000', '')\n",
    "    pd.to_datetime(data.time_start, format=\"%Y-%m-%d %H:%M:%S\")\n",
    "    data[[\"time_start\", \"arithmeticMean_10m\"]].to_dict()\n",
    "\n",
    "    dictionary = dict(zip(data[\"time_start\"], data[\"arithmeticMean_10m\"]))\n",
    "    dictionary[\"sensorId\"] = data[\"sensorId\"][0]\n",
    "    dictionary[\"lat\"] = data[\"lat\"][0]\n",
    "    dictionary[\"lon\"] = data[\"lon\"][0]\n",
    "    dictionary[\"boxName\"] = data[\"boxName\"][0]\n",
    "    dictionary[\"boxId\"] = data[\"boxId\"][0]\n",
    "    dictionary[\"unit\"] = data[\"unit\"][0]\n",
    "    return dictionary"
   ]
  },
  {
   "cell_type": "markdown",
   "metadata": {},
   "source": [
    "### Create db"
   ]
  },
  {
   "cell_type": "code",
   "execution_count": 176,
   "metadata": {},
   "outputs": [],
   "source": [
    "mongo_client = pymongo.MongoClient('localhost', 27017)\n",
    "mongo_db = mongo_client[\"ddi_mc2\"]"
   ]
  },
  {
   "cell_type": "markdown",
   "metadata": {},
   "source": [
    "### Define collections"
   ]
  },
  {
   "cell_type": "code",
   "execution_count": 177,
   "metadata": {},
   "outputs": [],
   "source": [
    "air_pressure = mongo_db['air_pressure']\n",
    "wind_force = mongo_db['wind_force']\n",
    "wind_direction = mongo_db['wind_direction']\n",
    "wind_speed = mongo_db['wind_speed']\n",
    "\n",
    "\n"
   ]
  },
  {
   "cell_type": "code",
   "execution_count": 178,
   "metadata": {},
   "outputs": [
    {
     "name": "stderr",
     "output_type": "stream",
     "text": [
      "C:\\Users\\samlu\\Anaconda3\\lib\\site-packages\\ipykernel_launcher.py:6: FutureWarning: The default value of regex will change from True to False in a future version.\n",
      "  \n"
     ]
    },
    {
     "data": {
      "text/plain": [
       "<pymongo.results.InsertOneResult at 0x29b9de72348>"
      ]
     },
     "execution_count": 178,
     "metadata": {},
     "output_type": "execute_result"
    }
   ],
   "source": [
    "path = './data/opensensemap_org-arithmeticMean-Windst%C3%A4rke-lat-lon-boxName-boxId-unit-20210518_115929.csv'\n",
    "dictionary = csv_to_dict(path)\n",
    "mongo_db.wind_force.insert_one(dictionary)"
   ]
  },
  {
   "cell_type": "code",
   "execution_count": 179,
   "metadata": {},
   "outputs": [
    {
     "data": {
      "text/plain": [
       "MongoClient(host=['localhost:27017'], document_class=dict, tz_aware=False, connect=True)"
      ]
     },
     "execution_count": 179,
     "metadata": {},
     "output_type": "execute_result"
    }
   ],
   "source": [
    "mongo_client"
   ]
  },
  {
   "cell_type": "code",
   "execution_count": 180,
   "metadata": {},
   "outputs": [
    {
     "data": {
      "text/plain": [
       "['admin', 'config', 'ddi_mc2', 'local']"
      ]
     },
     "execution_count": 180,
     "metadata": {},
     "output_type": "execute_result"
    }
   ],
   "source": [
    "mongo_client.list_database_names()"
   ]
  },
  {
   "cell_type": "code",
   "execution_count": 181,
   "metadata": {},
   "outputs": [
    {
     "name": "stdout",
     "output_type": "stream",
     "text": [
      "The database exists.\n"
     ]
    }
   ],
   "source": [
    "dblist = mongo_client.list_database_names()\n",
    "if \"ddi_mc2\" in dblist:\n",
    "    print(\"The database exists.\")"
   ]
  },
  {
   "cell_type": "code",
   "execution_count": 184,
   "metadata": {},
   "outputs": [
    {
     "name": "stdout",
     "output_type": "stream",
     "text": [
      "<bound method Collection.find of Collection(Database(MongoClient(host=['localhost:27017'], document_class=dict, tz_aware=False, connect=True), 'ddi_mc2'), 'wind_force')>\n"
     ]
    }
   ],
   "source": [
    "print(mongo_db.wind_force.find)"
   ]
  },
  {
   "cell_type": "markdown",
   "metadata": {},
   "source": [
    "## Setup InfluxDB "
   ]
  },
  {
   "cell_type": "code",
   "execution_count": 3,
   "metadata": {},
   "outputs": [],
   "source": [
    "#!pip install influxdb\n",
    "from influxdb import InfluxDBClient\n",
    "influx_client = InfluxDBClient(host='localhost', port=8086)"
   ]
  },
  {
   "cell_type": "code",
   "execution_count": null,
   "metadata": {},
   "outputs": [],
   "source": []
  }
 ],
 "metadata": {
  "kernelspec": {
   "display_name": "Python 3",
   "language": "python",
   "name": "python3"
  },
  "language_info": {
   "codemirror_mode": {
    "name": "ipython",
    "version": 3
   },
   "file_extension": ".py",
   "mimetype": "text/x-python",
   "name": "python",
   "nbconvert_exporter": "python",
   "pygments_lexer": "ipython3",
   "version": "3.7.3"
  }
 },
 "nbformat": 4,
 "nbformat_minor": 4
}
